{
 "cells": [
  {
   "cell_type": "code",
   "execution_count": 51,
   "id": "790a990e-4768-4d69-95db-68031ab80e19",
   "metadata": {},
   "outputs": [],
   "source": [
    "from parse import parse, check"
   ]
  },
  {
   "cell_type": "code",
   "execution_count": 52,
   "id": "b8a010c4-5d70-4ed1-a828-5eccac88445d",
   "metadata": {},
   "outputs": [],
   "source": [
    "fn = \"d_difficult.in.txt\"\n",
    "path = \"input_data/{}\".format(fn)\n",
    "customers_d = parse(path)\n",
    "\n",
    "fn = \"e_elaborate.in.txt\"\n",
    "path = \"input_data/{}\".format(fn)\n",
    "customers_e = parse(path)"
   ]
  },
  {
   "cell_type": "markdown",
   "id": "ab5483c8-80c0-414a-baa4-8465861c2bb9",
   "metadata": {},
   "source": [
    "<h2>Lower bound score</h2>\n",
    "Take the set of all of the like ingredients and subtract it with the dislike set."
   ]
  },
  {
   "cell_type": "code",
   "execution_count": 53,
   "id": "a458241b-eb51-4dc8-a12f-df9459252695",
   "metadata": {},
   "outputs": [],
   "source": [
    "def build_default_piz(cus):\n",
    "  like = set()\n",
    "  dislike = set()\n",
    "  for c in cus:\n",
    "    like = like | c.like\n",
    "    dislike = dislike | c.dislike\n",
    "  piz = like.difference(dislike)\n",
    "  return check(piz, cus)"
   ]
  },
  {
   "cell_type": "code",
   "execution_count": 54,
   "id": "9c6ae45b-9060-4eb3-8619-6461365aee15",
   "metadata": {},
   "outputs": [
    {
     "data": {
      "text/plain": [
       "'1420/9368'"
      ]
     },
     "execution_count": 54,
     "metadata": {},
     "output_type": "execute_result"
    }
   ],
   "source": [
    "\"{}/{}\".format(build_default_piz(customers_d), len(customers_d))"
   ]
  },
  {
   "cell_type": "code",
   "execution_count": 55,
   "id": "f6686cca-4041-45b9-a0b4-5c5151d9ba60",
   "metadata": {},
   "outputs": [
    {
     "data": {
      "text/plain": [
       "'412/4986'"
      ]
     },
     "execution_count": 55,
     "metadata": {},
     "output_type": "execute_result"
    }
   ],
   "source": [
    "\"{}/{}\".format(build_default_piz(customers_e), len(customers_e))"
   ]
  },
  {
   "cell_type": "markdown",
   "id": "e5ead445-b429-4ab0-824b-d9411282e88d",
   "metadata": {},
   "source": [
    "<h2> Ingredients analysis </h2>\n",
    "Most like and dislike ingredients"
   ]
  },
  {
   "cell_type": "code",
   "execution_count": 79,
   "id": "7ffec030-66c4-4f0d-b3a6-eb0ac1c4f3fb",
   "metadata": {},
   "outputs": [],
   "source": [
    "def count_ingredient(cus, top):\n",
    "  like = {}\n",
    "  dislike = {}\n",
    "  for c in cus:\n",
    "    for l in c.like:\n",
    "      if l in like:\n",
    "        like[l] += 1\n",
    "      else:\n",
    "        like[l] = 1\n",
    "    \n",
    "    for d in c.dislike:\n",
    "      if d in dislike:\n",
    "        dislike[d] += 1\n",
    "      else:\n",
    "        dislike[d] = 1\n",
    "  \n",
    "  print(\"Like\", *sorted(like.items(), key=lambda x: x[1], reverse=True)[:top], sep=\"\\n\")\n",
    "  print()\n",
    "  print(\"Dislike\", *sorted(dislike.items(), key=lambda x: x[1], reverse=True)[:top], sep=\"\\n\")\n",
    "  \n",
    "  cc = []\n",
    "  for c in cus:\n",
    "    s = 0\n",
    "    for l in c.like:\n",
    "      s += like[l]\n",
    "    for d in c.dislike:\n",
    "      s -= dislike[d]\n",
    "    cc.append((c, s))\n",
    "  \n",
    "  print()\n",
    "  print(*[(i, cus.index(i[0])) for i in sorted(cc, key=lambda x: x[1], reverse=True)][:3], sep=\"\\n\")"
   ]
  },
  {
   "cell_type": "code",
   "execution_count": 80,
   "id": "a5d7addb-205d-4167-960f-0a06e2b65697",
   "metadata": {},
   "outputs": [
    {
     "name": "stdout",
     "output_type": "stream",
     "text": [
      "Like\n",
      "('ingredient437', 59)\n",
      "('ingredient217', 56)\n",
      "('ingredient333', 54)\n",
      "('ingredient376', 54)\n",
      "('ingredient237', 52)\n",
      "('ingredient204', 52)\n",
      "('ingredient121', 52)\n",
      "('ingredient396', 51)\n",
      "('ingredient76', 51)\n",
      "('ingredient311', 50)\n",
      "\n",
      "Dislike\n",
      "('ingredient276', 57)\n",
      "('ingredient296', 56)\n",
      "('ingredient293', 56)\n",
      "('ingredient105', 55)\n",
      "('ingredient108', 54)\n",
      "('ingredient48', 53)\n",
      "('ingredient233', 52)\n",
      "('ingredient327', 52)\n",
      "('ingredient483', 51)\n",
      "('ingredient28', 50)\n",
      "\n",
      "(({'ingredient321', 'ingredient41', 'ingredient488', 'ingredient454', 'ingredient48'} set(), 201), 1899)\n",
      "(({'ingredient376', 'ingredient69', 'ingredient359', 'ingredient388', 'ingredient245'} set(), 200), 6616)\n",
      "(({'ingredient138', 'ingredient363', 'ingredient283', 'ingredient152', 'ingredient61'} set(), 194), 3222)\n"
     ]
    }
   ],
   "source": [
    "count_ingredient(customers_d, 10)"
   ]
  },
  {
   "cell_type": "code",
   "execution_count": 81,
   "id": "b4aa1aef-ae4e-417a-a558-fd4980482a15",
   "metadata": {},
   "outputs": [
    {
     "name": "stdout",
     "output_type": "stream",
     "text": [
      "Like\n",
      "('ingredient664', 7)\n",
      "('ingredient2004', 7)\n",
      "('ingredient7326', 7)\n",
      "('ingredient6019', 7)\n",
      "('ingredient4042', 7)\n",
      "('ingredient2157', 7)\n",
      "('ingredient626', 7)\n",
      "('ingredient1870', 7)\n",
      "('ingredient8947', 7)\n",
      "('ingredient4593', 6)\n",
      "\n",
      "Dislike\n",
      "('ingredient5165', 8)\n",
      "('ingredient8838', 7)\n",
      "('ingredient528', 7)\n",
      "('ingredient5262', 7)\n",
      "('ingredient1732', 6)\n",
      "('ingredient4135', 6)\n",
      "('ingredient4334', 6)\n",
      "('ingredient9616', 6)\n",
      "('ingredient1881', 6)\n",
      "('ingredient5544', 6)\n",
      "\n",
      "(({'ingredient664', 'ingredient5727', 'ingredient9556', 'ingredient9089', 'ingredient3877'} set(), 23), 743)\n",
      "(({'ingredient6489', 'ingredient9011', 'ingredient4722', 'ingredient5335', 'ingredient6658'} set(), 20), 3456)\n",
      "(({'ingredient3761', 'ingredient1455', 'ingredient2792', 'ingredient4206', 'ingredient5455'} {'ingredient6689'}, 19), 4225)\n"
     ]
    }
   ],
   "source": [
    "count_ingredient(customers_e, 10)"
   ]
  },
  {
   "cell_type": "code",
   "execution_count": null,
   "id": "719030ce-306a-4539-aa73-14d630b27345",
   "metadata": {},
   "outputs": [],
   "source": []
  }
 ],
 "metadata": {
  "kernelspec": {
   "display_name": "Python 3 (ipykernel)",
   "language": "python",
   "name": "python3"
  },
  "language_info": {
   "codemirror_mode": {
    "name": "ipython",
    "version": 3
   },
   "file_extension": ".py",
   "mimetype": "text/x-python",
   "name": "python",
   "nbconvert_exporter": "python",
   "pygments_lexer": "ipython3",
   "version": "3.9.7"
  }
 },
 "nbformat": 4,
 "nbformat_minor": 5
}
