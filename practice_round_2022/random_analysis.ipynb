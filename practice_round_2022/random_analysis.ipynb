{
 "cells": [
  {
   "cell_type": "code",
   "execution_count": 5,
   "id": "790a990e-4768-4d69-95db-68031ab80e19",
   "metadata": {},
   "outputs": [],
   "source": [
    "from parse import parse"
   ]
  },
  {
   "cell_type": "code",
   "execution_count": 6,
   "id": "b8a010c4-5d70-4ed1-a828-5eccac88445d",
   "metadata": {},
   "outputs": [],
   "source": [
    "fn = \"d_difficult.in.txt\"\n",
    "path = \"input_data/{}\".format(fn)\n",
    "customers_d = parse(path)\n",
    "\n",
    "fn = \"e_elaborate.in.txt\"\n",
    "path = \"input_data/{}\".format(fn)\n",
    "customers_e = parse(path)"
   ]
  },
  {
   "cell_type": "code",
   "execution_count": null,
   "id": "a458241b-eb51-4dc8-a12f-df9459252695",
   "metadata": {},
   "outputs": [],
   "source": [
    "def build_default_piz(cus):\n",
    "  "
   ]
  },
  {
   "cell_type": "code",
   "execution_count": null,
   "id": "9c6ae45b-9060-4eb3-8619-6461365aee15",
   "metadata": {},
   "outputs": [],
   "source": []
  }
 ],
 "metadata": {
  "kernelspec": {
   "display_name": "Python 3 (ipykernel)",
   "language": "python",
   "name": "python3"
  },
  "language_info": {
   "codemirror_mode": {
    "name": "ipython",
    "version": 3
   },
   "file_extension": ".py",
   "mimetype": "text/x-python",
   "name": "python",
   "nbconvert_exporter": "python",
   "pygments_lexer": "ipython3",
   "version": "3.9.7"
  }
 },
 "nbformat": 4,
 "nbformat_minor": 5
}
