{
 "cells": [
  {
   "cell_type": "code",
   "execution_count": 51,
   "id": "790a990e-4768-4d69-95db-68031ab80e19",
   "metadata": {},
   "outputs": [],
   "source": [
    "from parse import parse, check"
   ]
  },
  {
   "cell_type": "code",
   "execution_count": 52,
   "id": "b8a010c4-5d70-4ed1-a828-5eccac88445d",
   "metadata": {},
   "outputs": [],
   "source": [
    "fn = \"d_difficult.in.txt\"\n",
    "path = \"input_data/{}\".format(fn)\n",
    "customers_d = parse(path)\n",
    "\n",
    "fn = \"e_elaborate.in.txt\"\n",
    "path = \"input_data/{}\".format(fn)\n",
    "customers_e = parse(path)"
   ]
  },
  {
   "cell_type": "markdown",
   "id": "ab5483c8-80c0-414a-baa4-8465861c2bb9",
   "metadata": {},
   "source": [
    "<h2>Lower bound score</h2>\n",
    "Take the set of all of the like ingredients and subtract it with the dislike set."
   ]
  },
  {
   "cell_type": "code",
   "execution_count": 53,
   "id": "a458241b-eb51-4dc8-a12f-df9459252695",
   "metadata": {},
   "outputs": [],
   "source": [
    "def build_default_piz(cus):\n",
    "  like = set()\n",
    "  dislike = set()\n",
    "  for c in cus:\n",
    "    like = like | c.like\n",
    "    dislike = dislike | c.dislike\n",
    "  piz = like.difference(dislike)\n",
    "  return check(piz, cus)"
   ]
  },
  {
   "cell_type": "code",
   "execution_count": 54,
   "id": "9c6ae45b-9060-4eb3-8619-6461365aee15",
   "metadata": {},
   "outputs": [
    {
     "data": {
      "text/plain": [
       "'1420/9368'"
      ]
     },
     "execution_count": 54,
     "metadata": {},
     "output_type": "execute_result"
    }
   ],
   "source": [
    "\"{}/{}\".format(build_default_piz(customers_d), len(customers_d))"
   ]
  },
  {
   "cell_type": "code",
   "execution_count": 55,
   "id": "f6686cca-4041-45b9-a0b4-5c5151d9ba60",
   "metadata": {},
   "outputs": [
    {
     "data": {
      "text/plain": [
       "'412/4986'"
      ]
     },
     "execution_count": 55,
     "metadata": {},
     "output_type": "execute_result"
    }
   ],
   "source": [
    "\"{}/{}\".format(build_default_piz(customers_e), len(customers_e))"
   ]
  },
  {
   "cell_type": "markdown",
   "id": "e5ead445-b429-4ab0-824b-d9411282e88d",
   "metadata": {},
   "source": [
    "<h2> Ingredients analysis </h2>\n",
    "Most like and dislike ingredients"
   ]
  },
  {
   "cell_type": "code",
   "execution_count": 50,
   "id": "7ffec030-66c4-4f0d-b3a6-eb0ac1c4f3fb",
   "metadata": {},
   "outputs": [],
   "source": [
    "def count_ingredient(cus, top):\n",
    "  like = {}\n",
    "  dislike = {}\n",
    "  for c in cus:\n",
    "    for l in c.like:\n",
    "      if l in like:\n",
    "        like[l] += 1\n",
    "      else:\n",
    "        like[l] = 1\n",
    "    \n",
    "    for d in c.dislike:\n",
    "      if d in dislike:\n",
    "        dislike[d] += 1\n",
    "      else:\n",
    "        dislike[d] = 1\n",
    "  \n",
    "  print(\"Like\", sorted(like.items(), key=lambda x: x[1], reverse=True)[:top])\n",
    "  print()\n",
    "  print(\"Dislike\", sorted(dislike.items(), key=lambda x: x[1], reverse=True)[:top])"
   ]
  },
  {
   "cell_type": "code",
   "execution_count": 48,
   "id": "a5d7addb-205d-4167-960f-0a06e2b65697",
   "metadata": {},
   "outputs": [
    {
     "name": "stdout",
     "output_type": "stream",
     "text": [
      "Like [('ingredient437', 59), ('ingredient217', 56), ('ingredient333', 54), ('ingredient376', 54), ('ingredient237', 52), ('ingredient204', 52), ('ingredient121', 52), ('ingredient396', 51), ('ingredient76', 51), ('ingredient311', 50)]\n",
      "\n",
      "Dislike [('ingredient276', 57), ('ingredient296', 56), ('ingredient293', 56), ('ingredient105', 55), ('ingredient108', 54), ('ingredient48', 53), ('ingredient233', 52), ('ingredient327', 52), ('ingredient483', 51), ('ingredient28', 50)]\n"
     ]
    }
   ],
   "source": [
    "count_ingredient(customers_d, 10)"
   ]
  },
  {
   "cell_type": "code",
   "execution_count": 49,
   "id": "b4aa1aef-ae4e-417a-a558-fd4980482a15",
   "metadata": {},
   "outputs": [
    {
     "name": "stdout",
     "output_type": "stream",
     "text": [
      "Like [('ingredient664', 7), ('ingredient2004', 7), ('ingredient7326', 7), ('ingredient6019', 7), ('ingredient4042', 7), ('ingredient2157', 7), ('ingredient626', 7), ('ingredient1870', 7), ('ingredient8947', 7), ('ingredient4593', 6)]\n",
      "\n",
      "Dislike [('ingredient5165', 8), ('ingredient8838', 7), ('ingredient528', 7), ('ingredient5262', 7), ('ingredient1732', 6), ('ingredient4135', 6), ('ingredient4334', 6), ('ingredient9616', 6), ('ingredient1881', 6), ('ingredient5544', 6)]\n"
     ]
    }
   ],
   "source": [
    "count_ingredient(customers_e, 10)"
   ]
  },
  {
   "cell_type": "markdown",
   "id": "26561501-61c2-42c4-b1f7-59414f98f810",
   "metadata": {},
   "source": [
    "TODO: use this to choose a better starting customers"
   ]
  }
 ],
 "metadata": {
  "kernelspec": {
   "display_name": "Python 3 (ipykernel)",
   "language": "python",
   "name": "python3"
  },
  "language_info": {
   "codemirror_mode": {
    "name": "ipython",
    "version": 3
   },
   "file_extension": ".py",
   "mimetype": "text/x-python",
   "name": "python",
   "nbconvert_exporter": "python",
   "pygments_lexer": "ipython3",
   "version": "3.9.7"
  }
 },
 "nbformat": 4,
 "nbformat_minor": 5
}
